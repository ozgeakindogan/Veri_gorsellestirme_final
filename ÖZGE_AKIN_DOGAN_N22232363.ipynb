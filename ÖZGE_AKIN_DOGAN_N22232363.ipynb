{
  "cells": [
    {
      "cell_type": "markdown",
      "metadata": {
        "id": "RZgsHGFxTZr_"
      },
      "source": [
        "# **GİRİŞ**\n",
        "Bu çalışmada Vera Adalet Enstitüsü'nden sağlanan ABD hapishane verileri, veri görselleştirme teknikleri kullanılarak analiz edilmektedir. Çalışma boyunca 3 farklı soruya cevap aranmış, her cevap için farklı görselleştirme tekniğinden yararlanılmıştır. Benzer şekilde, ilgilenilen soruya göre veri setinin çalışmaya dahil edilen kısımları da farklılaşmaktadır."
      ]
    },
    {
      "cell_type": "markdown",
      "metadata": {
        "id": "kyHoX_yUcvK5"
      },
      "source": [
        "#**1) ABD'de 2000-2014 yılları arasında  hapis cezası alan ortalama kişi sayısı eyaletlere göre farklılık göstermekte midir?**\n",
        "\n",
        "Sorunun analizinde aşağıdaki veri tiplerinden yararlanılmıştır:\n",
        "\n",
        "year: Yıl bilgisini vermektedir. Sıralı verilerden oluşmaktadır.                                 \n",
        "total_prison_adm: Toplam hapis cezası alan kişi sayısını göstermektedir. Nicel verilerden oluşmaktadır.                                                                  \n",
        "state: Eyalet bilgisini içermektedir. Kategorik verilerden oluşmaktadır.\n",
        "\n"
      ]
    },
    {
      "cell_type": "markdown",
      "metadata": {
        "id": "csYI-LYmAkGf"
      },
      "source": [
        "## 1.1) Kod"
      ]
    },
    {
      "cell_type": "code",
      "execution_count": null,
      "metadata": {
        "id": "UEFM9ZLijTHo"
      },
      "outputs": [],
      "source": [
        "!pip install geopandas\n",
        "!pip install plotly\n",
        "import pandas as pd\n",
        "import matplotlib.pyplot as plt\n",
        "import seaborn as sns\n",
        "import numpy as np\n",
        "import json\n",
        "import requests\n",
        "import geopandas as gpd\n",
        "import matplotlib.pyplot as plt\n",
        "import plotly.graph_objects as go\n",
        "import ipywidgets as widgets\n",
        "from IPython.display import display\n",
        "url=\"https://raw.githubusercontent.com/rfordatascience/tidytuesday/master/data/2019/2019-01-22/incarceration_trends.csv\"\n",
        "\n",
        "data = pd.read_csv(url)\n",
        "data_1 = data[(data['year'] >= 2000) & (data['year'] <= 2014)]\n",
        "selected_columns = ['year', 'state','total_prison_adm']\n",
        "data_1 = data_1[selected_columns]\n",
        "\n",
        "data_1 = data_1.dropna(subset=['total_prison_adm']).groupby([\"state\",\"year\"])[['total_prison_adm']].sum()\n",
        "data_1 = data_1.groupby([\"state\"])[[\"total_prison_adm\"]].mean().round(1)\n",
        "data_1 = pd.DataFrame(data_1).reset_index()\n",
        "\n",
        "#EYALETLERİN KOORDİNAT VERİLERİ YÜKLENMİŞTİR.\n",
        "state = pd.read_csv('https://raw.githubusercontent.com/ozgeakindogan/yeni/main/USA2.csv')\n",
        "data_1 = pd.merge(data_1, state, on='state', how='left')\n",
        "\n",
        "fig = go.Figure()\n",
        "fig.add_trace(go.Choropleth(\n",
        "    locations=data_1['state'],\n",
        "    locationmode=\"USA-states\",\n",
        "    z=data_1['total_prison_adm'],\n",
        "    zmax=50000,\n",
        "    zmin=0,\n",
        "    colorscale=\"Reds\",\n",
        "    colorbar_title=\"Not: Renklendirilmeyen eyaletler için 2000-2014 yılları arasında veri bulunmamaktadır.\"+\"<br>\"+\"<br>\"+ \"HAPİS CEZASI ALAN ORTALAMA KİŞİ SAYISI(2000-2014)\",\n",
        "    text=\"EYALET KODU: \" + data_1['state'] + \"<br>\" +\" HAPİS CEZASI ALAN ORTALAMA KİŞİ SAYISI(2000-2014): \" + data_1['total_prison_adm'].astype(str),\n",
        "    hovertemplate=\"%{text}<extra></extra>\",\n",
        "    marker_line_color='white'\n",
        "))\n",
        "\n",
        "fig.update_layout(\n",
        "    dragmode=False,\n",
        "    title=\"ABD Eyaletlerinde Hapis Cezası Alan Ortalama Kişi Sayısı (2000-2014)\"\n",
        ")\n",
        "fig.update_geos(scope=\"usa\")\n",
        "fig.show()\n"
      ]
    },
    {
      "cell_type": "markdown",
      "metadata": {
        "id": "kg8cTYrfA85X"
      },
      "source": [
        "## 1.2) Hapishane Verilerinin ABD Haritası Üzerinde Gösterimi"
      ]
    },
    {
      "cell_type": "code",
      "execution_count": 402,
      "metadata": {
        "colab": {
          "base_uri": "https://localhost:8080/",
          "height": 542
        },
        "id": "fkijxVBqB_pr",
        "outputId": "248c5121-23a6-4273-dc59-1051797c53a2"
      },
      "outputs": [
        {
          "output_type": "display_data",
          "data": {
            "text/html": [
              "<html>\n",
              "<head><meta charset=\"utf-8\" /></head>\n",
              "<body>\n",
              "    <div>            <script src=\"https://cdnjs.cloudflare.com/ajax/libs/mathjax/2.7.5/MathJax.js?config=TeX-AMS-MML_SVG\"></script><script type=\"text/javascript\">if (window.MathJax && window.MathJax.Hub && window.MathJax.Hub.Config) {window.MathJax.Hub.Config({SVG: {font: \"STIX-Web\"}});}</script>                <script type=\"text/javascript\">window.PlotlyConfig = {MathJaxConfig: 'local'};</script>\n",
              "        <script src=\"https://cdn.plot.ly/plotly-2.18.2.min.js\"></script>                <div id=\"025b549b-4564-4b7e-9f3f-97e1b07c7672\" class=\"plotly-graph-div\" style=\"height:525px; width:100%;\"></div>            <script type=\"text/javascript\">                                    window.PLOTLYENV=window.PLOTLYENV || {};                                    if (document.getElementById(\"025b549b-4564-4b7e-9f3f-97e1b07c7672\")) {                    Plotly.newPlot(                        \"025b549b-4564-4b7e-9f3f-97e1b07c7672\",                        [{\"colorbar\":{\"title\":{\"text\":\"Not: Renklendirilmeyen eyaletler i\\u00e7in 2000-2014 y\\u0131llar\\u0131 aras\\u0131nda veri bulunmamaktad\\u0131r.<br><br>HAP\\u0130S CEZASI ALAN ORTALAMA K\\u0130\\u015e\\u0130 SAYISI(2000-2014)\"}},\"colorscale\":[[0.0,\"rgb(255,245,240)\"],[0.125,\"rgb(254,224,210)\"],[0.25,\"rgb(252,187,161)\"],[0.375,\"rgb(252,146,114)\"],[0.5,\"rgb(251,106,74)\"],[0.625,\"rgb(239,59,44)\"],[0.75,\"rgb(203,24,29)\"],[0.875,\"rgb(165,15,21)\"],[1.0,\"rgb(103,0,13)\"]],\"hovertemplate\":\"%{text}<extra></extra>\",\"locationmode\":\"USA-states\",\"locations\":[\"AK\",\"AL\",\"AR\",\"AZ\",\"CA\",\"CO\",\"FL\",\"GA\",\"HI\",\"IA\",\"IL\",\"IN\",\"KS\",\"KY\",\"LA\",\"MA\",\"MD\",\"ME\",\"MI\",\"MN\",\"MO\",\"MS\",\"NC\",\"ND\",\"NE\",\"NH\",\"NJ\",\"NV\",\"NY\",\"OH\",\"OK\",\"OR\",\"PA\",\"RI\",\"SC\",\"SD\",\"TN\",\"TX\",\"UT\",\"VA\",\"WA\",\"WI\",\"WV\",\"WY\"],\"marker\":{\"line\":{\"color\":\"white\"}},\"text\":[\"EYALET KODU: AK<br> HAP\\u0130S CEZASI ALAN ORTALAMA K\\u0130\\u015e\\u0130 SAYISI(2000-2014): 13977.1\",\"EYALET KODU: AL<br> HAP\\u0130S CEZASI ALAN ORTALAMA K\\u0130\\u015e\\u0130 SAYISI(2000-2014): 10780.5\",\"EYALET KODU: AR<br> HAP\\u0130S CEZASI ALAN ORTALAMA K\\u0130\\u015e\\u0130 SAYISI(2000-2014): 8283.5\",\"EYALET KODU: AZ<br> HAP\\u0130S CEZASI ALAN ORTALAMA K\\u0130\\u015e\\u0130 SAYISI(2000-2014): 15643.5\",\"EYALET KODU: CA<br> HAP\\u0130S CEZASI ALAN ORTALAMA K\\u0130\\u015e\\u0130 SAYISI(2000-2014): 102967.5\",\"EYALET KODU: CO<br> HAP\\u0130S CEZASI ALAN ORTALAMA K\\u0130\\u015e\\u0130 SAYISI(2000-2014): 9206.7\",\"EYALET KODU: FL<br> HAP\\u0130S CEZASI ALAN ORTALAMA K\\u0130\\u015e\\u0130 SAYISI(2000-2014): 32951.1\",\"EYALET KODU: GA<br> HAP\\u0130S CEZASI ALAN ORTALAMA K\\u0130\\u015e\\u0130 SAYISI(2000-2014): 18681.7\",\"EYALET KODU: HI<br> HAP\\u0130S CEZASI ALAN ORTALAMA K\\u0130\\u015e\\u0130 SAYISI(2000-2014): 1768.5\",\"EYALET KODU: IA<br> HAP\\u0130S CEZASI ALAN ORTALAMA K\\u0130\\u015e\\u0130 SAYISI(2000-2014): 4325.6\",\"EYALET KODU: IL<br> HAP\\u0130S CEZASI ALAN ORTALAMA K\\u0130\\u015e\\u0130 SAYISI(2000-2014): 30920.3\",\"EYALET KODU: IN<br> HAP\\u0130S CEZASI ALAN ORTALAMA K\\u0130\\u015e\\u0130 SAYISI(2000-2014): 18084.0\",\"EYALET KODU: KS<br> HAP\\u0130S CEZASI ALAN ORTALAMA K\\u0130\\u015e\\u0130 SAYISI(2000-2014): 930.8\",\"EYALET KODU: KY<br> HAP\\u0130S CEZASI ALAN ORTALAMA K\\u0130\\u015e\\u0130 SAYISI(2000-2014): 13511.7\",\"EYALET KODU: LA<br> HAP\\u0130S CEZASI ALAN ORTALAMA K\\u0130\\u015e\\u0130 SAYISI(2000-2014): 15409.8\",\"EYALET KODU: MA<br> HAP\\u0130S CEZASI ALAN ORTALAMA K\\u0130\\u015e\\u0130 SAYISI(2000-2014): 3305.3\",\"EYALET KODU: MD<br> HAP\\u0130S CEZASI ALAN ORTALAMA K\\u0130\\u015e\\u0130 SAYISI(2000-2014): 9310.7\",\"EYALET KODU: ME<br> HAP\\u0130S CEZASI ALAN ORTALAMA K\\u0130\\u015e\\u0130 SAYISI(2000-2014): 900.0\",\"EYALET KODU: MI<br> HAP\\u0130S CEZASI ALAN ORTALAMA K\\u0130\\u015e\\u0130 SAYISI(2000-2014): 12644.9\",\"EYALET KODU: MN<br> HAP\\u0130S CEZASI ALAN ORTALAMA K\\u0130\\u015e\\u0130 SAYISI(2000-2014): 5844.7\",\"EYALET KODU: MO<br> HAP\\u0130S CEZASI ALAN ORTALAMA K\\u0130\\u015e\\u0130 SAYISI(2000-2014): 18938.2\",\"EYALET KODU: MS<br> HAP\\u0130S CEZASI ALAN ORTALAMA K\\u0130\\u015e\\u0130 SAYISI(2000-2014): 9233.3\",\"EYALET KODU: NC<br> HAP\\u0130S CEZASI ALAN ORTALAMA K\\u0130\\u015e\\u0130 SAYISI(2000-2014): 12985.1\",\"EYALET KODU: ND<br> HAP\\u0130S CEZASI ALAN ORTALAMA K\\u0130\\u015e\\u0130 SAYISI(2000-2014): 960.2\",\"EYALET KODU: NE<br> HAP\\u0130S CEZASI ALAN ORTALAMA K\\u0130\\u015e\\u0130 SAYISI(2000-2014): 2390.3\",\"EYALET KODU: NH<br> HAP\\u0130S CEZASI ALAN ORTALAMA K\\u0130\\u015e\\u0130 SAYISI(2000-2014): 1181.9\",\"EYALET KODU: NJ<br> HAP\\u0130S CEZASI ALAN ORTALAMA K\\u0130\\u015e\\u0130 SAYISI(2000-2014): 12535.3\",\"EYALET KODU: NV<br> HAP\\u0130S CEZASI ALAN ORTALAMA K\\u0130\\u015e\\u0130 SAYISI(2000-2014): 5344.1\",\"EYALET KODU: NY<br> HAP\\u0130S CEZASI ALAN ORTALAMA K\\u0130\\u015e\\u0130 SAYISI(2000-2014): 24121.8\",\"EYALET KODU: OH<br> HAP\\u0130S CEZASI ALAN ORTALAMA K\\u0130\\u015e\\u0130 SAYISI(2000-2014): 23630.7\",\"EYALET KODU: OK<br> HAP\\u0130S CEZASI ALAN ORTALAMA K\\u0130\\u015e\\u0130 SAYISI(2000-2014): 8497.1\",\"EYALET KODU: OR<br> HAP\\u0130S CEZASI ALAN ORTALAMA K\\u0130\\u015e\\u0130 SAYISI(2000-2014): 4767.0\",\"EYALET KODU: PA<br> HAP\\u0130S CEZASI ALAN ORTALAMA K\\u0130\\u015e\\u0130 SAYISI(2000-2014): 17342.5\",\"EYALET KODU: RI<br> HAP\\u0130S CEZASI ALAN ORTALAMA K\\u0130\\u015e\\u0130 SAYISI(2000-2014): 3860.6\",\"EYALET KODU: SC<br> HAP\\u0130S CEZASI ALAN ORTALAMA K\\u0130\\u015e\\u0130 SAYISI(2000-2014): 9150.3\",\"EYALET KODU: SD<br> HAP\\u0130S CEZASI ALAN ORTALAMA K\\u0130\\u015e\\u0130 SAYISI(2000-2014): 2098.7\",\"EYALET KODU: TN<br> HAP\\u0130S CEZASI ALAN ORTALAMA K\\u0130\\u015e\\u0130 SAYISI(2000-2014): 14935.2\",\"EYALET KODU: TX<br> HAP\\u0130S CEZASI ALAN ORTALAMA K\\u0130\\u015e\\u0130 SAYISI(2000-2014): 73775.0\",\"EYALET KODU: UT<br> HAP\\u0130S CEZASI ALAN ORTALAMA K\\u0130\\u015e\\u0130 SAYISI(2000-2014): 3251.2\",\"EYALET KODU: VA<br> HAP\\u0130S CEZASI ALAN ORTALAMA K\\u0130\\u015e\\u0130 SAYISI(2000-2014): 12211.7\",\"EYALET KODU: WA<br> HAP\\u0130S CEZASI ALAN ORTALAMA K\\u0130\\u015e\\u0130 SAYISI(2000-2014): 7662.4\",\"EYALET KODU: WI<br> HAP\\u0130S CEZASI ALAN ORTALAMA K\\u0130\\u015e\\u0130 SAYISI(2000-2014): 9125.4\",\"EYALET KODU: WV<br> HAP\\u0130S CEZASI ALAN ORTALAMA K\\u0130\\u015e\\u0130 SAYISI(2000-2014): 2803.8\",\"EYALET KODU: WY<br> HAP\\u0130S CEZASI ALAN ORTALAMA K\\u0130\\u015e\\u0130 SAYISI(2000-2014): 793.9\"],\"z\":[13977.1,10780.5,8283.5,15643.5,102967.5,9206.7,32951.1,18681.7,1768.5,4325.6,30920.3,18084.0,930.8,13511.7,15409.8,3305.3,9310.7,900.0,12644.9,5844.7,18938.2,9233.3,12985.1,960.2,2390.3,1181.9,12535.3,5344.1,24121.8,23630.7,8497.1,4767.0,17342.5,3860.6,9150.3,2098.7,14935.2,73775.0,3251.2,12211.7,7662.4,9125.4,2803.8,793.9],\"zmax\":50000,\"zmin\":0,\"type\":\"choropleth\"}],                        {\"template\":{\"data\":{\"histogram2dcontour\":[{\"type\":\"histogram2dcontour\",\"colorbar\":{\"outlinewidth\":0,\"ticks\":\"\"},\"colorscale\":[[0.0,\"#0d0887\"],[0.1111111111111111,\"#46039f\"],[0.2222222222222222,\"#7201a8\"],[0.3333333333333333,\"#9c179e\"],[0.4444444444444444,\"#bd3786\"],[0.5555555555555556,\"#d8576b\"],[0.6666666666666666,\"#ed7953\"],[0.7777777777777778,\"#fb9f3a\"],[0.8888888888888888,\"#fdca26\"],[1.0,\"#f0f921\"]]}],\"choropleth\":[{\"type\":\"choropleth\",\"colorbar\":{\"outlinewidth\":0,\"ticks\":\"\"}}],\"histogram2d\":[{\"type\":\"histogram2d\",\"colorbar\":{\"outlinewidth\":0,\"ticks\":\"\"},\"colorscale\":[[0.0,\"#0d0887\"],[0.1111111111111111,\"#46039f\"],[0.2222222222222222,\"#7201a8\"],[0.3333333333333333,\"#9c179e\"],[0.4444444444444444,\"#bd3786\"],[0.5555555555555556,\"#d8576b\"],[0.6666666666666666,\"#ed7953\"],[0.7777777777777778,\"#fb9f3a\"],[0.8888888888888888,\"#fdca26\"],[1.0,\"#f0f921\"]]}],\"heatmap\":[{\"type\":\"heatmap\",\"colorbar\":{\"outlinewidth\":0,\"ticks\":\"\"},\"colorscale\":[[0.0,\"#0d0887\"],[0.1111111111111111,\"#46039f\"],[0.2222222222222222,\"#7201a8\"],[0.3333333333333333,\"#9c179e\"],[0.4444444444444444,\"#bd3786\"],[0.5555555555555556,\"#d8576b\"],[0.6666666666666666,\"#ed7953\"],[0.7777777777777778,\"#fb9f3a\"],[0.8888888888888888,\"#fdca26\"],[1.0,\"#f0f921\"]]}],\"heatmapgl\":[{\"type\":\"heatmapgl\",\"colorbar\":{\"outlinewidth\":0,\"ticks\":\"\"},\"colorscale\":[[0.0,\"#0d0887\"],[0.1111111111111111,\"#46039f\"],[0.2222222222222222,\"#7201a8\"],[0.3333333333333333,\"#9c179e\"],[0.4444444444444444,\"#bd3786\"],[0.5555555555555556,\"#d8576b\"],[0.6666666666666666,\"#ed7953\"],[0.7777777777777778,\"#fb9f3a\"],[0.8888888888888888,\"#fdca26\"],[1.0,\"#f0f921\"]]}],\"contourcarpet\":[{\"type\":\"contourcarpet\",\"colorbar\":{\"outlinewidth\":0,\"ticks\":\"\"}}],\"contour\":[{\"type\":\"contour\",\"colorbar\":{\"outlinewidth\":0,\"ticks\":\"\"},\"colorscale\":[[0.0,\"#0d0887\"],[0.1111111111111111,\"#46039f\"],[0.2222222222222222,\"#7201a8\"],[0.3333333333333333,\"#9c179e\"],[0.4444444444444444,\"#bd3786\"],[0.5555555555555556,\"#d8576b\"],[0.6666666666666666,\"#ed7953\"],[0.7777777777777778,\"#fb9f3a\"],[0.8888888888888888,\"#fdca26\"],[1.0,\"#f0f921\"]]}],\"surface\":[{\"type\":\"surface\",\"colorbar\":{\"outlinewidth\":0,\"ticks\":\"\"},\"colorscale\":[[0.0,\"#0d0887\"],[0.1111111111111111,\"#46039f\"],[0.2222222222222222,\"#7201a8\"],[0.3333333333333333,\"#9c179e\"],[0.4444444444444444,\"#bd3786\"],[0.5555555555555556,\"#d8576b\"],[0.6666666666666666,\"#ed7953\"],[0.7777777777777778,\"#fb9f3a\"],[0.8888888888888888,\"#fdca26\"],[1.0,\"#f0f921\"]]}],\"mesh3d\":[{\"type\":\"mesh3d\",\"colorbar\":{\"outlinewidth\":0,\"ticks\":\"\"}}],\"scatter\":[{\"fillpattern\":{\"fillmode\":\"overlay\",\"size\":10,\"solidity\":0.2},\"type\":\"scatter\"}],\"parcoords\":[{\"type\":\"parcoords\",\"line\":{\"colorbar\":{\"outlinewidth\":0,\"ticks\":\"\"}}}],\"scatterpolargl\":[{\"type\":\"scatterpolargl\",\"marker\":{\"colorbar\":{\"outlinewidth\":0,\"ticks\":\"\"}}}],\"bar\":[{\"error_x\":{\"color\":\"#2a3f5f\"},\"error_y\":{\"color\":\"#2a3f5f\"},\"marker\":{\"line\":{\"color\":\"#E5ECF6\",\"width\":0.5},\"pattern\":{\"fillmode\":\"overlay\",\"size\":10,\"solidity\":0.2}},\"type\":\"bar\"}],\"scattergeo\":[{\"type\":\"scattergeo\",\"marker\":{\"colorbar\":{\"outlinewidth\":0,\"ticks\":\"\"}}}],\"scatterpolar\":[{\"type\":\"scatterpolar\",\"marker\":{\"colorbar\":{\"outlinewidth\":0,\"ticks\":\"\"}}}],\"histogram\":[{\"marker\":{\"pattern\":{\"fillmode\":\"overlay\",\"size\":10,\"solidity\":0.2}},\"type\":\"histogram\"}],\"scattergl\":[{\"type\":\"scattergl\",\"marker\":{\"colorbar\":{\"outlinewidth\":0,\"ticks\":\"\"}}}],\"scatter3d\":[{\"type\":\"scatter3d\",\"line\":{\"colorbar\":{\"outlinewidth\":0,\"ticks\":\"\"}},\"marker\":{\"colorbar\":{\"outlinewidth\":0,\"ticks\":\"\"}}}],\"scattermapbox\":[{\"type\":\"scattermapbox\",\"marker\":{\"colorbar\":{\"outlinewidth\":0,\"ticks\":\"\"}}}],\"scatterternary\":[{\"type\":\"scatterternary\",\"marker\":{\"colorbar\":{\"outlinewidth\":0,\"ticks\":\"\"}}}],\"scattercarpet\":[{\"type\":\"scattercarpet\",\"marker\":{\"colorbar\":{\"outlinewidth\":0,\"ticks\":\"\"}}}],\"carpet\":[{\"aaxis\":{\"endlinecolor\":\"#2a3f5f\",\"gridcolor\":\"white\",\"linecolor\":\"white\",\"minorgridcolor\":\"white\",\"startlinecolor\":\"#2a3f5f\"},\"baxis\":{\"endlinecolor\":\"#2a3f5f\",\"gridcolor\":\"white\",\"linecolor\":\"white\",\"minorgridcolor\":\"white\",\"startlinecolor\":\"#2a3f5f\"},\"type\":\"carpet\"}],\"table\":[{\"cells\":{\"fill\":{\"color\":\"#EBF0F8\"},\"line\":{\"color\":\"white\"}},\"header\":{\"fill\":{\"color\":\"#C8D4E3\"},\"line\":{\"color\":\"white\"}},\"type\":\"table\"}],\"barpolar\":[{\"marker\":{\"line\":{\"color\":\"#E5ECF6\",\"width\":0.5},\"pattern\":{\"fillmode\":\"overlay\",\"size\":10,\"solidity\":0.2}},\"type\":\"barpolar\"}],\"pie\":[{\"automargin\":true,\"type\":\"pie\"}]},\"layout\":{\"autotypenumbers\":\"strict\",\"colorway\":[\"#636efa\",\"#EF553B\",\"#00cc96\",\"#ab63fa\",\"#FFA15A\",\"#19d3f3\",\"#FF6692\",\"#B6E880\",\"#FF97FF\",\"#FECB52\"],\"font\":{\"color\":\"#2a3f5f\"},\"hovermode\":\"closest\",\"hoverlabel\":{\"align\":\"left\"},\"paper_bgcolor\":\"white\",\"plot_bgcolor\":\"#E5ECF6\",\"polar\":{\"bgcolor\":\"#E5ECF6\",\"angularaxis\":{\"gridcolor\":\"white\",\"linecolor\":\"white\",\"ticks\":\"\"},\"radialaxis\":{\"gridcolor\":\"white\",\"linecolor\":\"white\",\"ticks\":\"\"}},\"ternary\":{\"bgcolor\":\"#E5ECF6\",\"aaxis\":{\"gridcolor\":\"white\",\"linecolor\":\"white\",\"ticks\":\"\"},\"baxis\":{\"gridcolor\":\"white\",\"linecolor\":\"white\",\"ticks\":\"\"},\"caxis\":{\"gridcolor\":\"white\",\"linecolor\":\"white\",\"ticks\":\"\"}},\"coloraxis\":{\"colorbar\":{\"outlinewidth\":0,\"ticks\":\"\"}},\"colorscale\":{\"sequential\":[[0.0,\"#0d0887\"],[0.1111111111111111,\"#46039f\"],[0.2222222222222222,\"#7201a8\"],[0.3333333333333333,\"#9c179e\"],[0.4444444444444444,\"#bd3786\"],[0.5555555555555556,\"#d8576b\"],[0.6666666666666666,\"#ed7953\"],[0.7777777777777778,\"#fb9f3a\"],[0.8888888888888888,\"#fdca26\"],[1.0,\"#f0f921\"]],\"sequentialminus\":[[0.0,\"#0d0887\"],[0.1111111111111111,\"#46039f\"],[0.2222222222222222,\"#7201a8\"],[0.3333333333333333,\"#9c179e\"],[0.4444444444444444,\"#bd3786\"],[0.5555555555555556,\"#d8576b\"],[0.6666666666666666,\"#ed7953\"],[0.7777777777777778,\"#fb9f3a\"],[0.8888888888888888,\"#fdca26\"],[1.0,\"#f0f921\"]],\"diverging\":[[0,\"#8e0152\"],[0.1,\"#c51b7d\"],[0.2,\"#de77ae\"],[0.3,\"#f1b6da\"],[0.4,\"#fde0ef\"],[0.5,\"#f7f7f7\"],[0.6,\"#e6f5d0\"],[0.7,\"#b8e186\"],[0.8,\"#7fbc41\"],[0.9,\"#4d9221\"],[1,\"#276419\"]]},\"xaxis\":{\"gridcolor\":\"white\",\"linecolor\":\"white\",\"ticks\":\"\",\"title\":{\"standoff\":15},\"zerolinecolor\":\"white\",\"automargin\":true,\"zerolinewidth\":2},\"yaxis\":{\"gridcolor\":\"white\",\"linecolor\":\"white\",\"ticks\":\"\",\"title\":{\"standoff\":15},\"zerolinecolor\":\"white\",\"automargin\":true,\"zerolinewidth\":2},\"scene\":{\"xaxis\":{\"backgroundcolor\":\"#E5ECF6\",\"gridcolor\":\"white\",\"linecolor\":\"white\",\"showbackground\":true,\"ticks\":\"\",\"zerolinecolor\":\"white\",\"gridwidth\":2},\"yaxis\":{\"backgroundcolor\":\"#E5ECF6\",\"gridcolor\":\"white\",\"linecolor\":\"white\",\"showbackground\":true,\"ticks\":\"\",\"zerolinecolor\":\"white\",\"gridwidth\":2},\"zaxis\":{\"backgroundcolor\":\"#E5ECF6\",\"gridcolor\":\"white\",\"linecolor\":\"white\",\"showbackground\":true,\"ticks\":\"\",\"zerolinecolor\":\"white\",\"gridwidth\":2}},\"shapedefaults\":{\"line\":{\"color\":\"#2a3f5f\"}},\"annotationdefaults\":{\"arrowcolor\":\"#2a3f5f\",\"arrowhead\":0,\"arrowwidth\":1},\"geo\":{\"bgcolor\":\"white\",\"landcolor\":\"#E5ECF6\",\"subunitcolor\":\"white\",\"showland\":true,\"showlakes\":true,\"lakecolor\":\"white\"},\"title\":{\"x\":0.05},\"mapbox\":{\"style\":\"light\"}}},\"dragmode\":false,\"title\":{\"text\":\"ABD Eyaletlerinde Hapis Cezas\\u0131 Alan Ortalama Ki\\u015fi Say\\u0131s\\u0131 (2000-2014)\"},\"geo\":{\"scope\":\"usa\"}},                        {\"responsive\": true}                    ).then(function(){\n",
              "                            \n",
              "var gd = document.getElementById('025b549b-4564-4b7e-9f3f-97e1b07c7672');\n",
              "var x = new MutationObserver(function (mutations, observer) {{\n",
              "        var display = window.getComputedStyle(gd).display;\n",
              "        if (!display || display === 'none') {{\n",
              "            console.log([gd, 'removed!']);\n",
              "            Plotly.purge(gd);\n",
              "            observer.disconnect();\n",
              "        }}\n",
              "}});\n",
              "\n",
              "// Listen for the removal of the full notebook cells\n",
              "var notebookContainer = gd.closest('#notebook-container');\n",
              "if (notebookContainer) {{\n",
              "    x.observe(notebookContainer, {childList: true});\n",
              "}}\n",
              "\n",
              "// Listen for the clearing of the current output cell\n",
              "var outputEl = gd.closest('.output');\n",
              "if (outputEl) {{\n",
              "    x.observe(outputEl, {childList: true});\n",
              "}}\n",
              "\n",
              "                        })                };                            </script>        </div>\n",
              "</body>\n",
              "</html>"
            ]
          },
          "metadata": {}
        }
      ],
      "source": [
        "fig.show()"
      ]
    },
    {
      "cell_type": "markdown",
      "metadata": {
        "id": "PKB-IBeaCgOH"
      },
      "source": [
        "## 1.3) Görselleştirmede Kullanılan Veri İşaretleri\n",
        "\n",
        "*   Eyalet sınırları\n",
        "*   İmlecin harita üzerindeki hareketi ile veriye ait etiket bilgisinin görüntülenmesi"
      ]
    },
    {
      "cell_type": "markdown",
      "metadata": {
        "id": "3SJ_dc6eE3qY"
      },
      "source": [
        "## 1.4) Görselleştirmede Kullanılan Veri Kanalları\n",
        "\n",
        "*   Renk: Verinin ait olduğu değer aralığını ifade etmektedir. Sayının büyüklüğü arttıkça onu temsil eden renk de koyulaşmaktadır.\n",
        "*   Renk barı: Renklerin değişim aralığını göstermektedir.\n",
        "*   Harita: Eyaletlerin konumlarını göstermektedir.\n"
      ]
    },
    {
      "cell_type": "markdown",
      "source": [
        "## 1.5) Bulgular\n",
        "\n",
        "2000-2014 yılları arası hapis cezası alan ortalama kişi sayısının en yüksek olduğu eyaletler Teksas ve Kaliforniya'dır. Bu eyaletlerde ortalama 50 binden fazla kişinin hapis cezası aldığı görülmektedir. Ceza sayısında Teksas ve Kaliforniya'yı sırasıyla Florida, Illinois, New York ve Ohio izlemektedir. Hapis cezası alan ortalama kişi sayısının en düşük olduğu eyaletler ise haritanın kuzey batısında yoğunlaşmaktadır. Eyaletlerin hukuk sistemine dair yeterli bilgiye sahip olunmadığı için hapis cezası alan kişi sayılarının azlığı/çokluğu ile eyaletin güvenliği arasında kesin bir ilişki kurulamamıştır.\n",
        "\n",
        "\n"
      ],
      "metadata": {
        "id": "Q6dMmcWuCRqs"
      }
    },
    {
      "cell_type": "markdown",
      "metadata": {
        "id": "IuCIwtQQLpkF"
      },
      "source": [
        "# **2) 1989-2014 Yılları arasında Ohio, New York ve Florida eyaletlerinde hapis yatan kişi sayısı yıllara göre nasıl bir değişim göstermektedir?**\n",
        "\n",
        "Sorunun analizimde aşağıdaki veri tiplerinden yararlanılmıştır:\n",
        "\n",
        "year: Yıl bilgisini vermektedir. Sıralı verilerden oluşmaktadır.      \n",
        "state: Eyalet bilgisini içermektedir. Kategorik verilerden oluşmaktadır.   \n",
        "total_prison_pop: Hapishanede bulunan kişi sayısını ifade etmektedir. Nicel verilerden oluşmaktadır.\n"
      ]
    },
    {
      "cell_type": "markdown",
      "source": [
        "## 2.1) Kod"
      ],
      "metadata": {
        "id": "F4y-8BHDLB1d"
      }
    },
    {
      "cell_type": "code",
      "execution_count": null,
      "metadata": {
        "id": "kQrc6MN9cK77"
      },
      "outputs": [],
      "source": [
        "states = ['OH', 'FL','NY']\n",
        "data_2 = data[(data['year'] >= 1989) & (data['year'] <= 2014) & (data['state'].isin(states))]\n",
        "data_2 =data_2.groupby(['year', 'state'])[['total_prison_pop']].sum()\n",
        "data_2 = pd.DataFrame(data_2).reset_index()\n",
        "\n",
        "years = data_2['year'].unique()\n",
        "states = data_2['state'].unique()\n",
        "total_prison_pop = data_2['total_prison_pop']\n",
        "pop_min = np.min(total_prison_pop)\n",
        "pop_max = np.max(total_prison_pop)\n",
        "aralık_sayısı = 20\n",
        "#Nokta büyüklükleri ayarlanır.\n",
        "point_size_min = 5 \n",
        "point_size_max = 45  \n",
        "#Her veri aralığı artan büyüklükte noktalar ile temsil edilir.\n",
        "pop_interval = (pop_max - pop_min) / (aralık_sayısı)\n",
        "pop_intervals = [pop_min + i * pop_interval for i in range(aralık_sayısı+1)]\n",
        "\n",
        "fig = go.Figure()\n",
        "for state in states:\n",
        "    state_data = data_2[data_2['state'] == state]\n",
        "    state_pop = state_data['total_prison_pop']\n",
        "    size_index = np.digitize(state_pop, pop_intervals) - 1\n",
        "    point_sizes = [point_size_min + (point_size_max- point_size_min) * i / aralık_sayısı for i in size_index]\n",
        "    state_data['total_prison_pop'] = state_data['total_prison_pop'].round().astype(int)\n",
        "    fig.add_trace(go.Scatter(\n",
        "        x=state_data['year'],\n",
        "        y=[state] * len(state_data),\n",
        "        mode='markers',\n",
        "        marker=dict(\n",
        "            size=point_sizes,\n",
        "            sizemode='diameter',\n",
        "            sizeref = 1.0,\n",
        "            color='red',\n",
        "            opacity=0.7\n",
        "        ),\n",
        "    text=state_data['total_prison_pop'],\n",
        "    hovertemplate='Hapis Yatan Kişi Sayısı: %{text}',\n",
        "    showlegend=False\n",
        "    ))\n",
        "\n",
        "tick_values = list(range(min(years), max(years) + 1))\n",
        "fig.update_layout(\n",
        "    title='Ohio, New York ve Florida Eyaletlerinde Hapis Yatan Kişi Sayısının Yıllara Göre Değişimi (1989-2014) ',\n",
        "    xaxis=dict(\n",
        "        title='YIL',\n",
        "        tickmode='array',\n",
        "        tickvals=tick_values,\n",
        "    ),\n",
        "    yaxis=dict(title='EYALET')\n",
        ")\n",
        "\n",
        "fig.show()"
      ]
    },
    {
      "cell_type": "markdown",
      "source": [
        "## 2.2) Hapishane Verilerinin Zamana Bağlı Değişiminin Şekil Üzerinde Gösterimi"
      ],
      "metadata": {
        "id": "vecTMJDzLHNL"
      }
    },
    {
      "cell_type": "code",
      "source": [
        "fig.show()"
      ],
      "metadata": {
        "colab": {
          "base_uri": "https://localhost:8080/",
          "height": 542
        },
        "id": "ALfCKDwP85jG",
        "outputId": "cf214000-8292-424b-cc48-966d47e5ad14"
      },
      "execution_count": 404,
      "outputs": [
        {
          "output_type": "display_data",
          "data": {
            "text/html": [
              "<html>\n",
              "<head><meta charset=\"utf-8\" /></head>\n",
              "<body>\n",
              "    <div>            <script src=\"https://cdnjs.cloudflare.com/ajax/libs/mathjax/2.7.5/MathJax.js?config=TeX-AMS-MML_SVG\"></script><script type=\"text/javascript\">if (window.MathJax && window.MathJax.Hub && window.MathJax.Hub.Config) {window.MathJax.Hub.Config({SVG: {font: \"STIX-Web\"}});}</script>                <script type=\"text/javascript\">window.PlotlyConfig = {MathJaxConfig: 'local'};</script>\n",
              "        <script src=\"https://cdn.plot.ly/plotly-2.18.2.min.js\"></script>                <div id=\"fe7ca36b-07bc-4fa7-b6e5-cf7052dc1e08\" class=\"plotly-graph-div\" style=\"height:525px; width:100%;\"></div>            <script type=\"text/javascript\">                                    window.PLOTLYENV=window.PLOTLYENV || {};                                    if (document.getElementById(\"fe7ca36b-07bc-4fa7-b6e5-cf7052dc1e08\")) {                    Plotly.newPlot(                        \"fe7ca36b-07bc-4fa7-b6e5-cf7052dc1e08\",                        [{\"hovertemplate\":\"Hapis Yatan Ki\\u015fi Say\\u0131s\\u0131: %{text}\",\"marker\":{\"color\":\"red\",\"opacity\":0.7,\"size\":[9.0,13.0,17.0,17.0,19.0,21.0,23.0,21.0,21.0,23.0,27.0,29.0,29.0,31.0,33.0,35.0,35.0,37.0,41.0,43.0,43.0,45.0,43.0,43.0,43.0,43.0],\"sizemode\":\"diameter\",\"sizeref\":1.0},\"mode\":\"markers\",\"showlegend\":false,\"text\":[36794.0,43341.0,49888.0,53124.0,56361.0,59598.0,62834.0,61114.0,60972.0,62722.0,70207.0,72614.0,73728.0,76477.0,81034.0,84521.0,87672.0,91335.0,96176.0,100847.0,102437.0,102990.0,102027.0,100908.0,101893.0,101281.0],\"x\":[1989,1990,1991,1992,1993,1994,1995,1996,1997,1998,1999,2000,2001,2002,2003,2004,2005,2006,2007,2008,2009,2010,2011,2012,2013,2014],\"y\":[\"FL\",\"FL\",\"FL\",\"FL\",\"FL\",\"FL\",\"FL\",\"FL\",\"FL\",\"FL\",\"FL\",\"FL\",\"FL\",\"FL\",\"FL\",\"FL\",\"FL\",\"FL\",\"FL\",\"FL\",\"FL\",\"FL\",\"FL\",\"FL\",\"FL\",\"FL\"],\"type\":\"scatter\"},{\"hovertemplate\":\"Hapis Yatan Ki\\u015fi Say\\u0131s\\u0131: %{text}\",\"marker\":{\"color\":\"red\",\"opacity\":0.7,\"size\":[13.0,17.0,21.0,23.0,23.0,25.0,25.0,27.0,25.0,27.0,27.0,27.0,25.0,25.0,23.0,23.0,23.0,23.0,23.0,21.0,21.0,19.0,19.0,17.0,17.0,17.0],\"sizemode\":\"diameter\",\"sizeref\":1.0},\"mode\":\"markers\",\"showlegend\":false,\"text\":[45492.0,51546.0,57599.0,63653.0,64229.0,66420.0,68157.0,69337.0,68597.0,69455.0,70862.0,69523.0,66682.0,66025.0,64454.0,62934.0,61934.0,62377.0,61667.0,59416.0,57713.0,55681.0,54451.0,53300.0,52688.0,51731.0],\"x\":[1989,1990,1991,1992,1993,1994,1995,1996,1997,1998,1999,2000,2001,2002,2003,2004,2005,2006,2007,2008,2009,2010,2011,2012,2013,2014],\"y\":[\"NY\",\"NY\",\"NY\",\"NY\",\"NY\",\"NY\",\"NY\",\"NY\",\"NY\",\"NY\",\"NY\",\"NY\",\"NY\",\"NY\",\"NY\",\"NY\",\"NY\",\"NY\",\"NY\",\"NY\",\"NY\",\"NY\",\"NY\",\"NY\",\"NY\",\"NY\"],\"type\":\"scatter\"},{\"hovertemplate\":\"Hapis Yatan Ki\\u015fi Say\\u0131s\\u0131: %{text}\",\"marker\":{\"color\":\"red\",\"opacity\":0.7,\"size\":[5.0,5.0,7.0,9.0,11.0,11.0,13.0,15.0,15.0,15.0,15.0,15.0,13.0,13.0,13.0,13.0,13.0,15.0,15.0,17.0,15.0,17.0,15.0,15.0,15.0,15.0],\"sizemode\":\"diameter\",\"sizeref\":1.0},\"mode\":\"markers\",\"showlegend\":false,\"text\":[26949.0,28977.0,32182.0,35644.0,38941.0,41986.0,44630.0,46710.0,47283.0,46184.0,47147.0,46053.0,44959.0,45154.0,45350.0,44011.0,45440.0,46869.0,49655.0,50340.0,48692.0,49766.0,49409.0,49281.0,48819.0,48819.0],\"x\":[1989,1990,1991,1992,1993,1994,1995,1996,1997,1998,1999,2000,2001,2002,2003,2004,2005,2006,2007,2008,2009,2010,2011,2012,2013,2014],\"y\":[\"OH\",\"OH\",\"OH\",\"OH\",\"OH\",\"OH\",\"OH\",\"OH\",\"OH\",\"OH\",\"OH\",\"OH\",\"OH\",\"OH\",\"OH\",\"OH\",\"OH\",\"OH\",\"OH\",\"OH\",\"OH\",\"OH\",\"OH\",\"OH\",\"OH\",\"OH\"],\"type\":\"scatter\"}],                        {\"template\":{\"data\":{\"histogram2dcontour\":[{\"type\":\"histogram2dcontour\",\"colorbar\":{\"outlinewidth\":0,\"ticks\":\"\"},\"colorscale\":[[0.0,\"#0d0887\"],[0.1111111111111111,\"#46039f\"],[0.2222222222222222,\"#7201a8\"],[0.3333333333333333,\"#9c179e\"],[0.4444444444444444,\"#bd3786\"],[0.5555555555555556,\"#d8576b\"],[0.6666666666666666,\"#ed7953\"],[0.7777777777777778,\"#fb9f3a\"],[0.8888888888888888,\"#fdca26\"],[1.0,\"#f0f921\"]]}],\"choropleth\":[{\"type\":\"choropleth\",\"colorbar\":{\"outlinewidth\":0,\"ticks\":\"\"}}],\"histogram2d\":[{\"type\":\"histogram2d\",\"colorbar\":{\"outlinewidth\":0,\"ticks\":\"\"},\"colorscale\":[[0.0,\"#0d0887\"],[0.1111111111111111,\"#46039f\"],[0.2222222222222222,\"#7201a8\"],[0.3333333333333333,\"#9c179e\"],[0.4444444444444444,\"#bd3786\"],[0.5555555555555556,\"#d8576b\"],[0.6666666666666666,\"#ed7953\"],[0.7777777777777778,\"#fb9f3a\"],[0.8888888888888888,\"#fdca26\"],[1.0,\"#f0f921\"]]}],\"heatmap\":[{\"type\":\"heatmap\",\"colorbar\":{\"outlinewidth\":0,\"ticks\":\"\"},\"colorscale\":[[0.0,\"#0d0887\"],[0.1111111111111111,\"#46039f\"],[0.2222222222222222,\"#7201a8\"],[0.3333333333333333,\"#9c179e\"],[0.4444444444444444,\"#bd3786\"],[0.5555555555555556,\"#d8576b\"],[0.6666666666666666,\"#ed7953\"],[0.7777777777777778,\"#fb9f3a\"],[0.8888888888888888,\"#fdca26\"],[1.0,\"#f0f921\"]]}],\"heatmapgl\":[{\"type\":\"heatmapgl\",\"colorbar\":{\"outlinewidth\":0,\"ticks\":\"\"},\"colorscale\":[[0.0,\"#0d0887\"],[0.1111111111111111,\"#46039f\"],[0.2222222222222222,\"#7201a8\"],[0.3333333333333333,\"#9c179e\"],[0.4444444444444444,\"#bd3786\"],[0.5555555555555556,\"#d8576b\"],[0.6666666666666666,\"#ed7953\"],[0.7777777777777778,\"#fb9f3a\"],[0.8888888888888888,\"#fdca26\"],[1.0,\"#f0f921\"]]}],\"contourcarpet\":[{\"type\":\"contourcarpet\",\"colorbar\":{\"outlinewidth\":0,\"ticks\":\"\"}}],\"contour\":[{\"type\":\"contour\",\"colorbar\":{\"outlinewidth\":0,\"ticks\":\"\"},\"colorscale\":[[0.0,\"#0d0887\"],[0.1111111111111111,\"#46039f\"],[0.2222222222222222,\"#7201a8\"],[0.3333333333333333,\"#9c179e\"],[0.4444444444444444,\"#bd3786\"],[0.5555555555555556,\"#d8576b\"],[0.6666666666666666,\"#ed7953\"],[0.7777777777777778,\"#fb9f3a\"],[0.8888888888888888,\"#fdca26\"],[1.0,\"#f0f921\"]]}],\"surface\":[{\"type\":\"surface\",\"colorbar\":{\"outlinewidth\":0,\"ticks\":\"\"},\"colorscale\":[[0.0,\"#0d0887\"],[0.1111111111111111,\"#46039f\"],[0.2222222222222222,\"#7201a8\"],[0.3333333333333333,\"#9c179e\"],[0.4444444444444444,\"#bd3786\"],[0.5555555555555556,\"#d8576b\"],[0.6666666666666666,\"#ed7953\"],[0.7777777777777778,\"#fb9f3a\"],[0.8888888888888888,\"#fdca26\"],[1.0,\"#f0f921\"]]}],\"mesh3d\":[{\"type\":\"mesh3d\",\"colorbar\":{\"outlinewidth\":0,\"ticks\":\"\"}}],\"scatter\":[{\"fillpattern\":{\"fillmode\":\"overlay\",\"size\":10,\"solidity\":0.2},\"type\":\"scatter\"}],\"parcoords\":[{\"type\":\"parcoords\",\"line\":{\"colorbar\":{\"outlinewidth\":0,\"ticks\":\"\"}}}],\"scatterpolargl\":[{\"type\":\"scatterpolargl\",\"marker\":{\"colorbar\":{\"outlinewidth\":0,\"ticks\":\"\"}}}],\"bar\":[{\"error_x\":{\"color\":\"#2a3f5f\"},\"error_y\":{\"color\":\"#2a3f5f\"},\"marker\":{\"line\":{\"color\":\"#E5ECF6\",\"width\":0.5},\"pattern\":{\"fillmode\":\"overlay\",\"size\":10,\"solidity\":0.2}},\"type\":\"bar\"}],\"scattergeo\":[{\"type\":\"scattergeo\",\"marker\":{\"colorbar\":{\"outlinewidth\":0,\"ticks\":\"\"}}}],\"scatterpolar\":[{\"type\":\"scatterpolar\",\"marker\":{\"colorbar\":{\"outlinewidth\":0,\"ticks\":\"\"}}}],\"histogram\":[{\"marker\":{\"pattern\":{\"fillmode\":\"overlay\",\"size\":10,\"solidity\":0.2}},\"type\":\"histogram\"}],\"scattergl\":[{\"type\":\"scattergl\",\"marker\":{\"colorbar\":{\"outlinewidth\":0,\"ticks\":\"\"}}}],\"scatter3d\":[{\"type\":\"scatter3d\",\"line\":{\"colorbar\":{\"outlinewidth\":0,\"ticks\":\"\"}},\"marker\":{\"colorbar\":{\"outlinewidth\":0,\"ticks\":\"\"}}}],\"scattermapbox\":[{\"type\":\"scattermapbox\",\"marker\":{\"colorbar\":{\"outlinewidth\":0,\"ticks\":\"\"}}}],\"scatterternary\":[{\"type\":\"scatterternary\",\"marker\":{\"colorbar\":{\"outlinewidth\":0,\"ticks\":\"\"}}}],\"scattercarpet\":[{\"type\":\"scattercarpet\",\"marker\":{\"colorbar\":{\"outlinewidth\":0,\"ticks\":\"\"}}}],\"carpet\":[{\"aaxis\":{\"endlinecolor\":\"#2a3f5f\",\"gridcolor\":\"white\",\"linecolor\":\"white\",\"minorgridcolor\":\"white\",\"startlinecolor\":\"#2a3f5f\"},\"baxis\":{\"endlinecolor\":\"#2a3f5f\",\"gridcolor\":\"white\",\"linecolor\":\"white\",\"minorgridcolor\":\"white\",\"startlinecolor\":\"#2a3f5f\"},\"type\":\"carpet\"}],\"table\":[{\"cells\":{\"fill\":{\"color\":\"#EBF0F8\"},\"line\":{\"color\":\"white\"}},\"header\":{\"fill\":{\"color\":\"#C8D4E3\"},\"line\":{\"color\":\"white\"}},\"type\":\"table\"}],\"barpolar\":[{\"marker\":{\"line\":{\"color\":\"#E5ECF6\",\"width\":0.5},\"pattern\":{\"fillmode\":\"overlay\",\"size\":10,\"solidity\":0.2}},\"type\":\"barpolar\"}],\"pie\":[{\"automargin\":true,\"type\":\"pie\"}]},\"layout\":{\"autotypenumbers\":\"strict\",\"colorway\":[\"#636efa\",\"#EF553B\",\"#00cc96\",\"#ab63fa\",\"#FFA15A\",\"#19d3f3\",\"#FF6692\",\"#B6E880\",\"#FF97FF\",\"#FECB52\"],\"font\":{\"color\":\"#2a3f5f\"},\"hovermode\":\"closest\",\"hoverlabel\":{\"align\":\"left\"},\"paper_bgcolor\":\"white\",\"plot_bgcolor\":\"#E5ECF6\",\"polar\":{\"bgcolor\":\"#E5ECF6\",\"angularaxis\":{\"gridcolor\":\"white\",\"linecolor\":\"white\",\"ticks\":\"\"},\"radialaxis\":{\"gridcolor\":\"white\",\"linecolor\":\"white\",\"ticks\":\"\"}},\"ternary\":{\"bgcolor\":\"#E5ECF6\",\"aaxis\":{\"gridcolor\":\"white\",\"linecolor\":\"white\",\"ticks\":\"\"},\"baxis\":{\"gridcolor\":\"white\",\"linecolor\":\"white\",\"ticks\":\"\"},\"caxis\":{\"gridcolor\":\"white\",\"linecolor\":\"white\",\"ticks\":\"\"}},\"coloraxis\":{\"colorbar\":{\"outlinewidth\":0,\"ticks\":\"\"}},\"colorscale\":{\"sequential\":[[0.0,\"#0d0887\"],[0.1111111111111111,\"#46039f\"],[0.2222222222222222,\"#7201a8\"],[0.3333333333333333,\"#9c179e\"],[0.4444444444444444,\"#bd3786\"],[0.5555555555555556,\"#d8576b\"],[0.6666666666666666,\"#ed7953\"],[0.7777777777777778,\"#fb9f3a\"],[0.8888888888888888,\"#fdca26\"],[1.0,\"#f0f921\"]],\"sequentialminus\":[[0.0,\"#0d0887\"],[0.1111111111111111,\"#46039f\"],[0.2222222222222222,\"#7201a8\"],[0.3333333333333333,\"#9c179e\"],[0.4444444444444444,\"#bd3786\"],[0.5555555555555556,\"#d8576b\"],[0.6666666666666666,\"#ed7953\"],[0.7777777777777778,\"#fb9f3a\"],[0.8888888888888888,\"#fdca26\"],[1.0,\"#f0f921\"]],\"diverging\":[[0,\"#8e0152\"],[0.1,\"#c51b7d\"],[0.2,\"#de77ae\"],[0.3,\"#f1b6da\"],[0.4,\"#fde0ef\"],[0.5,\"#f7f7f7\"],[0.6,\"#e6f5d0\"],[0.7,\"#b8e186\"],[0.8,\"#7fbc41\"],[0.9,\"#4d9221\"],[1,\"#276419\"]]},\"xaxis\":{\"gridcolor\":\"white\",\"linecolor\":\"white\",\"ticks\":\"\",\"title\":{\"standoff\":15},\"zerolinecolor\":\"white\",\"automargin\":true,\"zerolinewidth\":2},\"yaxis\":{\"gridcolor\":\"white\",\"linecolor\":\"white\",\"ticks\":\"\",\"title\":{\"standoff\":15},\"zerolinecolor\":\"white\",\"automargin\":true,\"zerolinewidth\":2},\"scene\":{\"xaxis\":{\"backgroundcolor\":\"#E5ECF6\",\"gridcolor\":\"white\",\"linecolor\":\"white\",\"showbackground\":true,\"ticks\":\"\",\"zerolinecolor\":\"white\",\"gridwidth\":2},\"yaxis\":{\"backgroundcolor\":\"#E5ECF6\",\"gridcolor\":\"white\",\"linecolor\":\"white\",\"showbackground\":true,\"ticks\":\"\",\"zerolinecolor\":\"white\",\"gridwidth\":2},\"zaxis\":{\"backgroundcolor\":\"#E5ECF6\",\"gridcolor\":\"white\",\"linecolor\":\"white\",\"showbackground\":true,\"ticks\":\"\",\"zerolinecolor\":\"white\",\"gridwidth\":2}},\"shapedefaults\":{\"line\":{\"color\":\"#2a3f5f\"}},\"annotationdefaults\":{\"arrowcolor\":\"#2a3f5f\",\"arrowhead\":0,\"arrowwidth\":1},\"geo\":{\"bgcolor\":\"white\",\"landcolor\":\"#E5ECF6\",\"subunitcolor\":\"white\",\"showland\":true,\"showlakes\":true,\"lakecolor\":\"white\"},\"title\":{\"x\":0.05},\"mapbox\":{\"style\":\"light\"}}},\"xaxis\":{\"title\":{\"text\":\"YIL\"},\"tickmode\":\"array\",\"tickvals\":[1989,1990,1991,1992,1993,1994,1995,1996,1997,1998,1999,2000,2001,2002,2003,2004,2005,2006,2007,2008,2009,2010,2011,2012,2013,2014]},\"title\":{\"text\":\"Ohio, New York ve Florida Eyaletlerinde Hapis Yatan Ki\\u015fi Say\\u0131s\\u0131n\\u0131n Y\\u0131llara G\\u00f6re De\\u011fi\\u015fimi (1989-2014) \"},\"yaxis\":{\"title\":{\"text\":\"EYALET\"}}},                        {\"responsive\": true}                    ).then(function(){\n",
              "                            \n",
              "var gd = document.getElementById('fe7ca36b-07bc-4fa7-b6e5-cf7052dc1e08');\n",
              "var x = new MutationObserver(function (mutations, observer) {{\n",
              "        var display = window.getComputedStyle(gd).display;\n",
              "        if (!display || display === 'none') {{\n",
              "            console.log([gd, 'removed!']);\n",
              "            Plotly.purge(gd);\n",
              "            observer.disconnect();\n",
              "        }}\n",
              "}});\n",
              "\n",
              "// Listen for the removal of the full notebook cells\n",
              "var notebookContainer = gd.closest('#notebook-container');\n",
              "if (notebookContainer) {{\n",
              "    x.observe(notebookContainer, {childList: true});\n",
              "}}\n",
              "\n",
              "// Listen for the clearing of the current output cell\n",
              "var outputEl = gd.closest('.output');\n",
              "if (outputEl) {{\n",
              "    x.observe(outputEl, {childList: true});\n",
              "}}\n",
              "\n",
              "                        })                };                            </script>        </div>\n",
              "</body>\n",
              "</html>"
            ]
          },
          "metadata": {}
        }
      ]
    },
    {
      "cell_type": "markdown",
      "source": [
        "## 2.3) Görselleştirmede Kullanılan Veri İşaretleri# \n",
        "\n",
        "*   Daire\n",
        "*   İmlecin harita üzerindeki hareketi ile veriye ait etiket bilgisinin görüntülenmesi\n"
      ],
      "metadata": {
        "id": "MP6CxyEpLjVU"
      }
    },
    {
      "cell_type": "markdown",
      "source": [
        "## 2.4) Görselleştirmede Kullanılan Veri Kanalları\n",
        "\n",
        "*   Dairelerin alanı: Kişi sayısının büyüklüğünü ifade etmektedir.\n",
        "*   X ekseni: Yılları göstermektedir.\n",
        "*   Y ekseni: Eyaletleri göstermektedir."
      ],
      "metadata": {
        "id": "fKMgNQe5L9JD"
      }
    },
    {
      "cell_type": "markdown",
      "source": [
        "## 2.5) Bulgular\n",
        "\n",
        "2000 yılına kadar, New York eyaletinde hapis yatan kişi sayısı Florida eyaletinde hapis yatan kişi sayısından yüksekken 2000-2014 yılları arasında bu sıralama değişiklik göstermiştir. Her bir yılın en düşük verisi Ohio eyaletine aittir. Florida eyaletinde hapis yatan kişi sayısı genel olarak zamanla artış göstermiş, en yüksek değerini de 2010 yılında almıştır. New York'ta ise veriler genel olarak 1999'a kadar artış göstermekte, 1999 yılından sonra da -2006 yılı hariç- azalmaktadır. Ohio eyaletinde hapis yatan kişi sayısı 1997 yılına kadar sürekli bir artış göstermekte, 1997'den sonraki yıllarda ise azalıp/artarak düzensiz bir seyir izlemektedir."
      ],
      "metadata": {
        "id": "RLrHYKRKNaTU"
      }
    },
    {
      "cell_type": "markdown",
      "source": [
        "#**3) 1994-2014 Yılları arasında ABD'de raporlanmış cinayet, tecavüz, hırsızlık ve kundaklama suçlarının sayısı yıllara ve eyaletlere göre nasıl farklılık göstermektedir?**\n",
        "\n",
        "Sorunun analizinde aşağıdaki veri tiplerinden yararlanılmıştır:\n",
        "\n",
        "year: Yıl bilgisini vermektedir. Sıralı verilerden oluşmaktadır.                                 \n",
        "robbery_crime: Raporlanan hırsızlık suçu sayısını ifade etmektedir. Nicel verilerden oluşmaktadır.            \n",
        "murder_crime: Raporlanan cinayet suçu sayısını ifade etmektedir. Nicel verilerden oluşmaktadır.            \n",
        "arson_crime: Raporlanan kundaklama suçu sayısını ifade etmektedir. Nicel verilerden oluşmaktadır.  \n",
        "rape_crime: Raporlanan tecavüz suçu sayısını ifade etmektedir. Nicel verilerden oluşmaktadır.                                                                \n",
        "state: Eyalet bilgisini içermektedir. Kategorik verilerden oluşmaktadır.\n",
        "\n",
        "\n"
      ],
      "metadata": {
        "id": "ZezoMZqEcAE8"
      }
    },
    {
      "cell_type": "markdown",
      "source": [
        "## 3.1) Kod"
      ],
      "metadata": {
        "id": "I4obcvJq5CJQ"
      }
    },
    {
      "cell_type": "code",
      "source": [
        "data_3 = data[(data['year'] >= 1994) & (data['year'] <= 2014)]\n",
        "selected_columns = ['year', 'state','murder_crime','rape_crime','robbery_crime','arson_crime']\n",
        "data_3 = data_3[selected_columns]\n",
        "\n",
        "data_3 = data_3.groupby([\"state\",\"year\"])[['murder_crime','arson_crime','rape_crime','robbery_crime']].sum()\n",
        "data_3 = pd.DataFrame(data_3).reset_index()\n",
        "\n",
        "suc_turleri = ['murder_crime','arson_crime','rape_crime','robbery_crime']\n",
        "state_dropdown = widgets.Dropdown(options=data_3['state'].unique(), description='Eyalet:')\n",
        "year_dropdown = widgets.Dropdown(options=data_3['year'].unique(), description='Yıl:')\n",
        "output = widgets.Output()\n",
        "\n",
        "def update_plot(*args):\n",
        "    selected_state = state_dropdown.value\n",
        "    selected_year = year_dropdown.value\n",
        "    selected_data = data_3[(data_3['state'] == selected_state) & (data_3['year'] == selected_year)]\n",
        "    values = selected_data[suc_turleri].values.flatten()\n",
        "    y_pos = range(len(suc_turleri))\n",
        "    x_pos = range(len(values))\n",
        "    output.clear_output(wait=True)  \n",
        "    with output:\n",
        "        plt.figure(figsize=(8, 4))\n",
        "        bars = plt.barh(y_pos, values, color='lightcoral', height=0.2)\n",
        "        plt.xlabel('Raporlanmış Suç Sayısı')\n",
        "        plt.ylabel('Suç Türü')\n",
        "        plt.title(selected_state + ' Eyaleti ' + str(selected_year) + ' Yılı İçin Suç Verileri')\n",
        "        plt.yticks(y_pos, ['Cinayet', 'Kundaklama', 'Tecavüz', 'Hırsızlık'])  \n",
        "        plt.tight_layout()\n",
        "        \n",
        "        for bar in bars:\n",
        "            xval = bar.get_width()\n",
        "            yval = bar.get_y() + bar.get_height() / 2\n",
        "            plt.text(xval, yval, str(xval), ha='left', va='center', fontsize=8)\n",
        "        \n",
        "        plt.show()\n",
        "\n",
        "state_dropdown.observe(update_plot, 'value')\n",
        "year_dropdown.observe(update_plot, 'value')\n",
        "\n",
        "update_plot()  \n",
        "display(widgets.VBox([state_dropdown, year_dropdown, output]))\n"
      ],
      "metadata": {
        "id": "ooWidFYcfH3Y"
      },
      "execution_count": null,
      "outputs": []
    },
    {
      "cell_type": "markdown",
      "source": [
        "## 3.2) ABD Eyaletlerinde Raporlanmış Suç Verilerinin Zamana ve Eyaletlere Göre Değişiminin Şekil Üzerinde Gösterimi"
      ],
      "metadata": {
        "id": "pVvsW26s5TCd"
      }
    },
    {
      "cell_type": "code",
      "source": [
        "state_dropdown.observe(update_plot, 'value')\n",
        "year_dropdown.observe(update_plot, 'value')\n",
        "update_plot()  \n",
        "display(widgets.VBox([state_dropdown, year_dropdown, output]))"
      ],
      "metadata": {
        "colab": {
          "base_uri": "https://localhost:8080/",
          "height": 471,
          "referenced_widgets": [
            "7593d606eb1846208d25b2e7a31ff3cd",
            "d9fb81ffbdb04a0a8a85785b03beff7d",
            "26ddde4218754ad59f4739ada0a84203",
            "b7c11b7847a5497b8e6034c2014c34b4",
            "74a6efe0246d41e78eb13e56bce0d4b6",
            "e347ddd5128d4a649a1bbfd90e82312b",
            "140ae8959eaa4de7a97e3650eda2f1bc",
            "8822fc7120cd4e5388d65fc20f4ad0e2",
            "4aa7e6f404634854a1958591a284091d",
            "febe46da7d074e7abce9eef03f3f8593"
          ]
        },
        "id": "i31FYzYO5ZXy",
        "outputId": "561b2fe6-f731-4b18-dd3a-c17e4a0ba5d4"
      },
      "execution_count": 406,
      "outputs": [
        {
          "output_type": "display_data",
          "data": {
            "text/plain": [
              "VBox(children=(Dropdown(description='Eyalet:', options=('AK', 'AL', 'AR', 'AZ', 'CA', 'CO', 'CT', 'DC', 'DE', …"
            ],
            "application/vnd.jupyter.widget-view+json": {
              "version_major": 2,
              "version_minor": 0,
              "model_id": "7593d606eb1846208d25b2e7a31ff3cd"
            }
          },
          "metadata": {}
        }
      ]
    },
    {
      "cell_type": "markdown",
      "source": [
        "## 3.3) Görselleştirmede Kullanılan Veri İşaretleri# \n",
        "\n",
        "*   Bar"
      ],
      "metadata": {
        "id": "fIjruch6-Pdc"
      }
    },
    {
      "cell_type": "markdown",
      "source": [
        "## 3.4) Görselleştirmede Kullanılan Veri Kanalları\n",
        "\n",
        "*   X ekseni: Raporlanmış suç sayısını göstermektedir.\n",
        "*   Y ekseni: Suç türlerini göstermektedir.\n",
        "*   Seçim menüsü: Eyalet ve yıl bilgilerinin seçimi yapılmaktadır."
      ],
      "metadata": {
        "id": "KzqvJLwf_JUa"
      }
    },
    {
      "cell_type": "markdown",
      "source": [
        "## 3.5) Bulgular\n",
        "\n",
        "Verilerin neredeyse tamamında, raporlanmış hırsızlık suçu sayısı diğer 3 suç türünde raporlanmış vakalardan yüksek çıkmıştır. Suç türleri arasında en düşük verilerin de genel olarak cinayet suçuna ait olduğu gözlenmiştir. Wyoming eyaletinde raporlanmış tecavüz suçu sayısının diğer 3 suç türünden fazla olması dikkat çekmektedir."
      ],
      "metadata": {
        "id": "UQkFiENHBdFk"
      }
    }
  ],
  "metadata": {
    "colab": {
      "collapsed_sections": [
        "csYI-LYmAkGf",
        "F4y-8BHDLB1d",
        "I4obcvJq5CJQ"
      ],
      "provenance": []
    },
    "kernelspec": {
      "display_name": "Python 3",
      "name": "python3"
    },
    "language_info": {
      "name": "python"
    },
    "widgets": {
      "application/vnd.jupyter.widget-state+json": {
        "7593d606eb1846208d25b2e7a31ff3cd": {
          "model_module": "@jupyter-widgets/controls",
          "model_name": "VBoxModel",
          "model_module_version": "1.5.0",
          "state": {
            "_dom_classes": [],
            "_model_module": "@jupyter-widgets/controls",
            "_model_module_version": "1.5.0",
            "_model_name": "VBoxModel",
            "_view_count": null,
            "_view_module": "@jupyter-widgets/controls",
            "_view_module_version": "1.5.0",
            "_view_name": "VBoxView",
            "box_style": "",
            "children": [
              "IPY_MODEL_d9fb81ffbdb04a0a8a85785b03beff7d",
              "IPY_MODEL_26ddde4218754ad59f4739ada0a84203",
              "IPY_MODEL_b7c11b7847a5497b8e6034c2014c34b4"
            ],
            "layout": "IPY_MODEL_74a6efe0246d41e78eb13e56bce0d4b6"
          }
        },
        "d9fb81ffbdb04a0a8a85785b03beff7d": {
          "model_module": "@jupyter-widgets/controls",
          "model_name": "DropdownModel",
          "model_module_version": "1.5.0",
          "state": {
            "_dom_classes": [],
            "_model_module": "@jupyter-widgets/controls",
            "_model_module_version": "1.5.0",
            "_model_name": "DropdownModel",
            "_options_labels": [
              "AK",
              "AL",
              "AR",
              "AZ",
              "CA",
              "CO",
              "CT",
              "DC",
              "DE",
              "FL",
              "GA",
              "HI",
              "IA",
              "ID",
              "IL",
              "IN",
              "KS",
              "KY",
              "LA",
              "MA",
              "MD",
              "ME",
              "MI",
              "MN",
              "MO",
              "MS",
              "MT",
              "NC",
              "ND",
              "NE",
              "NH",
              "NJ",
              "NM",
              "NV",
              "NY",
              "OH",
              "OK",
              "OR",
              "PA",
              "RI",
              "SC",
              "SD",
              "TN",
              "TX",
              "UT",
              "VA",
              "VT",
              "WA",
              "WI",
              "WV",
              "WY"
            ],
            "_view_count": null,
            "_view_module": "@jupyter-widgets/controls",
            "_view_module_version": "1.5.0",
            "_view_name": "DropdownView",
            "description": "Eyalet:",
            "description_tooltip": null,
            "disabled": false,
            "index": 16,
            "layout": "IPY_MODEL_e347ddd5128d4a649a1bbfd90e82312b",
            "style": "IPY_MODEL_140ae8959eaa4de7a97e3650eda2f1bc"
          }
        },
        "26ddde4218754ad59f4739ada0a84203": {
          "model_module": "@jupyter-widgets/controls",
          "model_name": "DropdownModel",
          "model_module_version": "1.5.0",
          "state": {
            "_dom_classes": [],
            "_model_module": "@jupyter-widgets/controls",
            "_model_module_version": "1.5.0",
            "_model_name": "DropdownModel",
            "_options_labels": [
              "1994",
              "1995",
              "1996",
              "1997",
              "1998",
              "1999",
              "2000",
              "2001",
              "2002",
              "2003",
              "2004",
              "2005",
              "2006",
              "2007",
              "2008",
              "2009",
              "2010",
              "2011",
              "2012",
              "2013",
              "2014"
            ],
            "_view_count": null,
            "_view_module": "@jupyter-widgets/controls",
            "_view_module_version": "1.5.0",
            "_view_name": "DropdownView",
            "description": "Yıl:",
            "description_tooltip": null,
            "disabled": false,
            "index": 16,
            "layout": "IPY_MODEL_8822fc7120cd4e5388d65fc20f4ad0e2",
            "style": "IPY_MODEL_4aa7e6f404634854a1958591a284091d"
          }
        },
        "b7c11b7847a5497b8e6034c2014c34b4": {
          "model_module": "@jupyter-widgets/output",
          "model_name": "OutputModel",
          "model_module_version": "1.0.0",
          "state": {
            "_dom_classes": [],
            "_model_module": "@jupyter-widgets/output",
            "_model_module_version": "1.0.0",
            "_model_name": "OutputModel",
            "_view_count": null,
            "_view_module": "@jupyter-widgets/output",
            "_view_module_version": "1.0.0",
            "_view_name": "OutputView",
            "layout": "IPY_MODEL_febe46da7d074e7abce9eef03f3f8593",
            "msg_id": "",
            "outputs": [
              {
                "output_type": "display_data",
                "data": {
                  "text/plain": "<Figure size 800x400 with 1 Axes>",
                  "image/png": "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\n"
                },
                "metadata": {}
              }
            ]
          }
        },
        "74a6efe0246d41e78eb13e56bce0d4b6": {
          "model_module": "@jupyter-widgets/base",
          "model_name": "LayoutModel",
          "model_module_version": "1.2.0",
          "state": {
            "_model_module": "@jupyter-widgets/base",
            "_model_module_version": "1.2.0",
            "_model_name": "LayoutModel",
            "_view_count": null,
            "_view_module": "@jupyter-widgets/base",
            "_view_module_version": "1.2.0",
            "_view_name": "LayoutView",
            "align_content": null,
            "align_items": null,
            "align_self": null,
            "border": null,
            "bottom": null,
            "display": null,
            "flex": null,
            "flex_flow": null,
            "grid_area": null,
            "grid_auto_columns": null,
            "grid_auto_flow": null,
            "grid_auto_rows": null,
            "grid_column": null,
            "grid_gap": null,
            "grid_row": null,
            "grid_template_areas": null,
            "grid_template_columns": null,
            "grid_template_rows": null,
            "height": null,
            "justify_content": null,
            "justify_items": null,
            "left": null,
            "margin": null,
            "max_height": null,
            "max_width": null,
            "min_height": null,
            "min_width": null,
            "object_fit": null,
            "object_position": null,
            "order": null,
            "overflow": null,
            "overflow_x": null,
            "overflow_y": null,
            "padding": null,
            "right": null,
            "top": null,
            "visibility": null,
            "width": null
          }
        },
        "e347ddd5128d4a649a1bbfd90e82312b": {
          "model_module": "@jupyter-widgets/base",
          "model_name": "LayoutModel",
          "model_module_version": "1.2.0",
          "state": {
            "_model_module": "@jupyter-widgets/base",
            "_model_module_version": "1.2.0",
            "_model_name": "LayoutModel",
            "_view_count": null,
            "_view_module": "@jupyter-widgets/base",
            "_view_module_version": "1.2.0",
            "_view_name": "LayoutView",
            "align_content": null,
            "align_items": null,
            "align_self": null,
            "border": null,
            "bottom": null,
            "display": null,
            "flex": null,
            "flex_flow": null,
            "grid_area": null,
            "grid_auto_columns": null,
            "grid_auto_flow": null,
            "grid_auto_rows": null,
            "grid_column": null,
            "grid_gap": null,
            "grid_row": null,
            "grid_template_areas": null,
            "grid_template_columns": null,
            "grid_template_rows": null,
            "height": null,
            "justify_content": null,
            "justify_items": null,
            "left": null,
            "margin": null,
            "max_height": null,
            "max_width": null,
            "min_height": null,
            "min_width": null,
            "object_fit": null,
            "object_position": null,
            "order": null,
            "overflow": null,
            "overflow_x": null,
            "overflow_y": null,
            "padding": null,
            "right": null,
            "top": null,
            "visibility": null,
            "width": null
          }
        },
        "140ae8959eaa4de7a97e3650eda2f1bc": {
          "model_module": "@jupyter-widgets/controls",
          "model_name": "DescriptionStyleModel",
          "model_module_version": "1.5.0",
          "state": {
            "_model_module": "@jupyter-widgets/controls",
            "_model_module_version": "1.5.0",
            "_model_name": "DescriptionStyleModel",
            "_view_count": null,
            "_view_module": "@jupyter-widgets/base",
            "_view_module_version": "1.2.0",
            "_view_name": "StyleView",
            "description_width": ""
          }
        },
        "8822fc7120cd4e5388d65fc20f4ad0e2": {
          "model_module": "@jupyter-widgets/base",
          "model_name": "LayoutModel",
          "model_module_version": "1.2.0",
          "state": {
            "_model_module": "@jupyter-widgets/base",
            "_model_module_version": "1.2.0",
            "_model_name": "LayoutModel",
            "_view_count": null,
            "_view_module": "@jupyter-widgets/base",
            "_view_module_version": "1.2.0",
            "_view_name": "LayoutView",
            "align_content": null,
            "align_items": null,
            "align_self": null,
            "border": null,
            "bottom": null,
            "display": null,
            "flex": null,
            "flex_flow": null,
            "grid_area": null,
            "grid_auto_columns": null,
            "grid_auto_flow": null,
            "grid_auto_rows": null,
            "grid_column": null,
            "grid_gap": null,
            "grid_row": null,
            "grid_template_areas": null,
            "grid_template_columns": null,
            "grid_template_rows": null,
            "height": null,
            "justify_content": null,
            "justify_items": null,
            "left": null,
            "margin": null,
            "max_height": null,
            "max_width": null,
            "min_height": null,
            "min_width": null,
            "object_fit": null,
            "object_position": null,
            "order": null,
            "overflow": null,
            "overflow_x": null,
            "overflow_y": null,
            "padding": null,
            "right": null,
            "top": null,
            "visibility": null,
            "width": null
          }
        },
        "4aa7e6f404634854a1958591a284091d": {
          "model_module": "@jupyter-widgets/controls",
          "model_name": "DescriptionStyleModel",
          "model_module_version": "1.5.0",
          "state": {
            "_model_module": "@jupyter-widgets/controls",
            "_model_module_version": "1.5.0",
            "_model_name": "DescriptionStyleModel",
            "_view_count": null,
            "_view_module": "@jupyter-widgets/base",
            "_view_module_version": "1.2.0",
            "_view_name": "StyleView",
            "description_width": ""
          }
        },
        "febe46da7d074e7abce9eef03f3f8593": {
          "model_module": "@jupyter-widgets/base",
          "model_name": "LayoutModel",
          "model_module_version": "1.2.0",
          "state": {
            "_model_module": "@jupyter-widgets/base",
            "_model_module_version": "1.2.0",
            "_model_name": "LayoutModel",
            "_view_count": null,
            "_view_module": "@jupyter-widgets/base",
            "_view_module_version": "1.2.0",
            "_view_name": "LayoutView",
            "align_content": null,
            "align_items": null,
            "align_self": null,
            "border": null,
            "bottom": null,
            "display": null,
            "flex": null,
            "flex_flow": null,
            "grid_area": null,
            "grid_auto_columns": null,
            "grid_auto_flow": null,
            "grid_auto_rows": null,
            "grid_column": null,
            "grid_gap": null,
            "grid_row": null,
            "grid_template_areas": null,
            "grid_template_columns": null,
            "grid_template_rows": null,
            "height": null,
            "justify_content": null,
            "justify_items": null,
            "left": null,
            "margin": null,
            "max_height": null,
            "max_width": null,
            "min_height": null,
            "min_width": null,
            "object_fit": null,
            "object_position": null,
            "order": null,
            "overflow": null,
            "overflow_x": null,
            "overflow_y": null,
            "padding": null,
            "right": null,
            "top": null,
            "visibility": null,
            "width": null
          }
        }
      }
    }
  },
  "nbformat": 4,
  "nbformat_minor": 0
}